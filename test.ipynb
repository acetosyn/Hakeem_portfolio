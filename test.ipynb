{
 "cells": [
  {
   "cell_type": "code",
   "execution_count": 2,
   "id": "ee9618d8",
   "metadata": {},
   "outputs": [],
   "source": [
    "import pandas as pd\n",
    "import cv2"
   ]
  },
  {
   "cell_type": "code",
   "execution_count": 3,
   "id": "07053145",
   "metadata": {},
   "outputs": [],
   "source": [
    "# %pip install opencv-python"
   ]
  },
  {
   "cell_type": "code",
   "execution_count": 8,
   "id": "0bed9b48",
   "metadata": {},
   "outputs": [],
   "source": [
    "image = cv2.imread('dp.jpg')\n",
    "image2= cv2.imread('dp2.jpg')\n",
    "image_wall= cv2.imread('Pythonwall.jpg')"
   ]
  },
  {
   "cell_type": "code",
   "execution_count": 14,
   "id": "36a7b1e0",
   "metadata": {},
   "outputs": [],
   "source": [
    "hk_image= cv2.imread('wallpaper.jpg')\n",
    "hk_resize= cv2.resize(hk_image, (1920, 1280))"
   ]
  },
  {
   "cell_type": "code",
   "execution_count": 15,
   "id": "c1e863c6",
   "metadata": {},
   "outputs": [
    {
     "data": {
      "text/plain": [
       "True"
      ]
     },
     "execution_count": 15,
     "metadata": {},
     "output_type": "execute_result"
    }
   ],
   "source": [
    "cv2.imwrite('Hakeem.jpg', hk_resize)"
   ]
  },
  {
   "cell_type": "code",
   "execution_count": 9,
   "id": "fffc025c",
   "metadata": {},
   "outputs": [],
   "source": [
    "image_wall_resize= cv2.resize(image_wall, (1920,1280))\n",
    "new_image_wall= cv2.imwrite('wallpaper.jpg', image_wall_resize)"
   ]
  },
  {
   "cell_type": "code",
   "execution_count": 10,
   "id": "cae8e165",
   "metadata": {},
   "outputs": [],
   "source": [
    "image_size = cv2.resize(image, (64,64))\n",
    "image_size2 = cv2.resize(image2, (64, 64))"
   ]
  },
  {
   "cell_type": "code",
   "execution_count": null,
   "id": "37da8f21",
   "metadata": {},
   "outputs": [],
   "source": [
    "cv2.imshow('image', image_size)\n",
    "cv2.waitKey(0)\n",
    "cv2.destroyAllWindows()"
   ]
  },
  {
   "cell_type": "code",
   "execution_count": 11,
   "id": "bafbf33b",
   "metadata": {},
   "outputs": [
    {
     "data": {
      "text/plain": [
       "True"
      ]
     },
     "execution_count": 11,
     "metadata": {},
     "output_type": "execute_result"
    }
   ],
   "source": [
    "cv2.imwrite('dp_resize.jpg', image_size)\n",
    "cv2.imwrite('dp_resize2.jpg', image_size2)"
   ]
  },
  {
   "cell_type": "code",
   "execution_count": null,
   "id": "3834793b",
   "metadata": {},
   "outputs": [],
   "source": []
  }
 ],
 "metadata": {
  "kernelspec": {
   "display_name": "Python 3",
   "language": "python",
   "name": "python3"
  },
  "language_info": {
   "codemirror_mode": {
    "name": "ipython",
    "version": 3
   },
   "file_extension": ".py",
   "mimetype": "text/x-python",
   "name": "python",
   "nbconvert_exporter": "python",
   "pygments_lexer": "ipython3",
   "version": "3.12.6"
  }
 },
 "nbformat": 4,
 "nbformat_minor": 5
}
